{
 "cells": [
  {
   "cell_type": "code",
   "execution_count": 1,
   "metadata": {},
   "outputs": [],
   "source": [
    "import numpy as np\n",
    "import pandas as pd\n",
    "import matplotlib.pyplot as plt"
   ]
  },
  {
   "cell_type": "code",
   "execution_count": 2,
   "metadata": {},
   "outputs": [],
   "source": [
    "TRAINING_SET_PATH = './News/News/train.csv'\n",
    "TEST_SET_PATH = './News/News/test.csv'"
   ]
  },
  {
   "cell_type": "code",
   "execution_count": 3,
   "metadata": {},
   "outputs": [
    {
     "name": "stdout",
     "output_type": "stream",
     "text": [
      "=====Training set=====\n",
      "number of unique tokens:  414534\n",
      "number of tokens:  31974762\n",
      "===== Test set =====\n",
      "number of unique tokens:  137155\n",
      "number of tokens:  5778816\n"
     ]
    }
   ],
   "source": [
    "import re\n",
    "from bidi.algorithm import get_display\n",
    "from arabic_reshaper import reshape\n",
    "\n",
    "class DataPreprocessor:\n",
    "    def __init__(self, path, is_test_set=0):\n",
    "        self.categories = None\n",
    "        self.is_test_set = is_test_set\n",
    "        self.wordToIndex = None\n",
    "        self.indexToWord = None\n",
    "        self.X, self.y = self.read_data(path)\n",
    "        self.clean_text()\n",
    "        self.count_words()\n",
    "        self.map_word_index()\n",
    "\n",
    "    def read_data(self, path):\n",
    "        df1 = pd.read_csv(path, delimiter='\\t')\n",
    "        df1 = df1.dropna()\n",
    "        self.categories = df1['category'].value_counts().index.to_list()[:-1]\n",
    "        df1 = df1[df1['category'].isin(self.categories)]\n",
    "        array = df1.values\n",
    "        x = []\n",
    "        y = []\n",
    "        for i in range(array.shape[0]):\n",
    "            x.append(str(array[i,1]) + ' ' + str(array[i,5]))\n",
    "            y.append(array[i,3])\n",
    "           \n",
    "        return x,y\n",
    "     \n",
    "    def plot_distribution(self):\n",
    "        category_counts = pd.Series(self.y).value_counts()\n",
    "        categories = self.categories\n",
    "        number_of_categories = category_counts.to_list()\n",
    "        persian_categories = [get_display(reshape(cat)) for cat in categories]\n",
    "        plt.rcParams['font.family'] = 'Yas'\n",
    "        plt.figure(figsize=(10,10), dpi=100)\n",
    "        plt.bar(persian_categories, number_of_categories)\n",
    "        plt.show()\n",
    "\n",
    "    def clean_text(self):\n",
    "        for i in range(len(self.X)):\n",
    "            self.X[i] = re.sub(r'[^۰-۹آ-ی\\s]', '', self.X[i])\n",
    "            self.X[i] = re.sub(r'[۰-۹]+','N', self.X[i])\n",
    "            self.X[i] = self.X[i].replace(u'\\xa0', u'')\n",
    "\n",
    "    def count_words(self):\n",
    "        self.X = list(map(lambda x: x.split(), self.X))\n",
    "        frequencies = {}\n",
    "        n_tokens = 0\n",
    "        for x in self.X:\n",
    "            for token in x:\n",
    "                if token in frequencies:\n",
    "                    frequencies[token] += 1\n",
    "                else:\n",
    "                    frequencies[token] = 1\n",
    "                n_tokens += 1\n",
    "\n",
    "        frequencies_pair_list = list(frequencies.items())\n",
    "        frequencies_pair_list.sort(key=lambda x: x[1], reverse=True) \n",
    "\n",
    "        if not self.is_test_set:\n",
    "            with open('frequent.txt', 'w', encoding='utf-8') as f:\n",
    "                most_frequencies_list = frequencies_pair_list[0:200]\n",
    "                tokens_string = ''\n",
    "                for token,value in most_frequencies_list:\n",
    "                    tokens_string += token + ' ' + str(value) + '\\n'\n",
    "                f.write(tokens_string)\n",
    "\n",
    "        self.frequencies_dict = dict(frequencies_pair_list)\n",
    "        print('number of unique tokens: ', len(frequencies_pair_list))\n",
    "        print('number of tokens: ', n_tokens)\n",
    "\n",
    "    def map_word_index(self):\n",
    "        wordToIndex = {}\n",
    "        indexToWord = {}\n",
    "        index = 0\n",
    "        for token in self.frequencies_dict:\n",
    "            wordToIndex[token] = index\n",
    "            indexToWord[index] = token\n",
    "            index+=1\n",
    "\n",
    "        if not self.is_test_set:\n",
    "            with open('wordToIndex.txt', 'w', encoding='utf-8') as f:\n",
    "                indexToWord_list =list(indexToWord.items())[0:200]\n",
    "                tokens_string = ''\n",
    "                for index,word in indexToWord_list:\n",
    "                    tokens_string += word + ' ' + str(index) + '\\n'\n",
    "                f.write(tokens_string)\n",
    "\n",
    "        self.wordToIndex = wordToIndex\n",
    "        self.indexToWord = indexToWord \n",
    "        return str(20) + ' ' + indexToWord[20] + '\\n' + str(30) + ' ' + indexToWord[30] + '\\n' + str(50) + ' ' + indexToWord[50]\n",
    "    \n",
    "    def tokenize(self, sentence):\n",
    "        indices = []\n",
    "        for token in sentence:\n",
    "            indices.append(self.wordToIndex[token])\n",
    "        return indices\n",
    "\n",
    "print(\"=====Training set=====\")\n",
    "dp_train = DataPreprocessor(TRAINING_SET_PATH)\n",
    "print('===== Test set =====')\n",
    "dp_test = DataPreprocessor(TEST_SET_PATH, is_test_set=1)"
   ]
  },
  {
   "cell_type": "code",
   "execution_count": 4,
   "metadata": {},
   "outputs": [
    {
     "data": {
      "text/plain": [
       "بین‌الملل      22767\n",
       "ورزشی          14274\n",
       "سیاسی          13647\n",
       "فرهنگی هنری    12136\n",
       "اجتماعی        11069\n",
       "علمی پزشکی      9938\n",
       "اقتصادی         9583\n",
       "فضای مجازی      1936\n",
       "وب‌گردی         1297\n",
       "فیلم و صوت       375\n",
       "dtype: int64"
      ]
     },
     "execution_count": 4,
     "metadata": {},
     "output_type": "execute_result"
    }
   ],
   "source": [
    "pd.Series(dp_train.y).value_counts()"
   ]
  },
  {
   "cell_type": "code",
   "execution_count": 5,
   "metadata": {},
   "outputs": [
    {
     "data": {
      "image/png": "[encoded data removed]",
      "text/plain": [
       "<Figure size 1000x1000 with 1 Axes>"
      ]
     },
     "metadata": {
      "needs_background": "light"
     },
     "output_type": "display_data"
    }
   ],
   "source": [
    "dp_train.plot_distribution()"
   ]
  },
  {
   "cell_type": "code",
   "execution_count": 6,
   "metadata": {},
   "outputs": [
    {
     "name": "stdout",
     "output_type": "stream",
     "text": [
      "20 گفت\n",
      "30 بود\n",
      "50 تهران\n"
     ]
    }
   ],
   "source": [
    "print(dp_train.map_word_index())"
   ]
  },
  {
   "cell_type": "code",
   "execution_count": 7,
   "metadata": {},
   "outputs": [
    {
     "data": {
      "text/plain": [
       "[15619,\n",
       " 31451,\n",
       " 128583,\n",
       " 785,\n",
       " 2,\n",
       " 35,\n",
       " 88,\n",
       " 91,\n",
       " 1549,\n",
       " 0,\n",
       " 10052,\n",
       " 176,\n",
       " 21,\n",
       " 27,\n",
       " 83,\n",
       " 234,\n",
       " 597,\n",
       " 3714,\n",
       " 952,\n",
       " 26871,\n",
       " 2,\n",
       " 110,\n",
       " 3,\n",
       " 140,\n",
       " 357,\n",
       " 15619,\n",
       " 7,\n",
       " 6806,\n",
       " 76889,\n",
       " 3823,\n",
       " 8,\n",
       " 6806,\n",
       " 76889,\n",
       " 16,\n",
       " 181,\n",
       " 678,\n",
       " 1,\n",
       " 7230,\n",
       " 2557,\n",
       " 90,\n",
       " 6255,\n",
       " 8,\n",
       " 320,\n",
       " 24968,\n",
       " 5251,\n",
       " 524,\n",
       " 8,\n",
       " 670,\n",
       " 33,\n",
       " 6189,\n",
       " 15619,\n",
       " 7,\n",
       " 31451,\n",
       " 128583,\n",
       " 752,\n",
       " 4,\n",
       " 6189,\n",
       " 3,\n",
       " 13186,\n",
       " 0,\n",
       " 6256,\n",
       " 187515,\n",
       " 10236,\n",
       " 1,\n",
       " 4376,\n",
       " 1452,\n",
       " 8,\n",
       " 1367,\n",
       " 16,\n",
       " 4,\n",
       " 35,\n",
       " 117,\n",
       " 15619,\n",
       " 5999,\n",
       " 1,\n",
       " 763,\n",
       " 818,\n",
       " 121,\n",
       " 1090,\n",
       " 694,\n",
       " 38,\n",
       " 141,\n",
       " 8,\n",
       " 4,\n",
       " 117,\n",
       " 15539,\n",
       " 215,\n",
       " 3,\n",
       " 23,\n",
       " 11443,\n",
       " 3,\n",
       " 3356,\n",
       " 0,\n",
       " 9307,\n",
       " 8,\n",
       " 2756,\n",
       " 854,\n",
       " 8,\n",
       " 117,\n",
       " 1489,\n",
       " 15619,\n",
       " 3,\n",
       " 23,\n",
       " 1736,\n",
       " 396,\n",
       " 15,\n",
       " 0,\n",
       " 13716,\n",
       " 22131,\n",
       " 404,\n",
       " 19507,\n",
       " 9877,\n",
       " 102889,\n",
       " 22369,\n",
       " 13394,\n",
       " 37244,\n",
       " 12338,\n",
       " 69384,\n",
       " 0,\n",
       " 12465,\n",
       " 10880,\n",
       " 8,\n",
       " 90,\n",
       " 86956,\n",
       " 5328,\n",
       " 498,\n",
       " 1,\n",
       " 763,\n",
       " 1289,\n",
       " 15619,\n",
       " 38,\n",
       " 141,\n",
       " 8,\n",
       " 712,\n",
       " 8,\n",
       " 187516,\n",
       " 6218,\n",
       " 878,\n",
       " 946,\n",
       " 8814,\n",
       " 1,\n",
       " 120,\n",
       " 15619,\n",
       " 6123,\n",
       " 15619,\n",
       " 2264,\n",
       " 239,\n",
       " 0,\n",
       " 284,\n",
       " 8051,\n",
       " 436,\n",
       " 0,\n",
       " 86957,\n",
       " 8,\n",
       " 1374,\n",
       " 5750,\n",
       " 13,\n",
       " 7,\n",
       " 2,\n",
       " 46,\n",
       " 807,\n",
       " 158,\n",
       " 117,\n",
       " 13,\n",
       " 2,\n",
       " 172,\n",
       " 192,\n",
       " 8,\n",
       " 1524,\n",
       " 0,\n",
       " 8815,\n",
       " 8,\n",
       " 3,\n",
       " 128584,\n",
       " 6,\n",
       " 3,\n",
       " 3992,\n",
       " 1732,\n",
       " 187517,\n",
       " 1,\n",
       " 1472,\n",
       " 4,\n",
       " 2677,\n",
       " 4232,\n",
       " 3,\n",
       " 13,\n",
       " 139,\n",
       " 51,\n",
       " 13,\n",
       " 1071,\n",
       " 187518,\n",
       " 431,\n",
       " 60,\n",
       " 52364,\n",
       " 102890,\n",
       " 14453,\n",
       " 454,\n",
       " 7932,\n",
       " 34,\n",
       " 15619,\n",
       " 7,\n",
       " 727,\n",
       " 1847,\n",
       " 253,\n",
       " 0,\n",
       " 668,\n",
       " 854,\n",
       " 42,\n",
       " 8,\n",
       " 0,\n",
       " 18078,\n",
       " 2822,\n",
       " 12405,\n",
       " 192,\n",
       " 15619,\n",
       " 7,\n",
       " 2,\n",
       " 503,\n",
       " 910,\n",
       " 253,\n",
       " 0,\n",
       " 1614,\n",
       " 436,\n",
       " 102891,\n",
       " 1031,\n",
       " 8]"
      ]
     },
     "execution_count": 7,
     "metadata": {},
     "output_type": "execute_result"
    }
   ],
   "source": [
    "dp_train.tokenize(dp_train.X[0]) ## each sentence of training set is list of tokens."
   ]
  },
  {
   "cell_type": "markdown",
   "metadata": {},
   "source": [
    "## NaiveBayesClassifier"
   ]
  },
  {
   "cell_type": "code",
   "execution_count": 25,
   "metadata": {},
   "outputs": [],
   "source": [
    "from sklearn.metrics import classification_report\n",
    "\n",
    "class NaiveBayesClassifier:\n",
    "    def __init__(self, X, y, categories):\n",
    "        self.categories = categories\n",
    "        self.X = X\n",
    "        self.y = y\n",
    "        self.count_per_class_dict = None\n",
    "        self.count_allwords_per_class = None\n",
    "        self.log_prior_list = None\n",
    "        self.count_word_per_class()\n",
    "\n",
    "    def count_word_per_class(self):        \n",
    "        count_per_class_dict = {}\n",
    "        count_allwords_per_class = {}\n",
    "        prior_counts = 10*[0]\n",
    "        \n",
    "        for category in self.categories:\n",
    "            for i in range(len(self.X)):\n",
    "                if self.y[i] == category:\n",
    "                    prior_counts[self.categories.index(category)] += 1\n",
    "                    for token in self.X[i]:\n",
    "                        if category in count_allwords_per_class:\n",
    "                            count_allwords_per_class[category] += 1\n",
    "                        else:\n",
    "                            count_allwords_per_class[category] = 1 \n",
    "                               \n",
    "                        if (token, category) in count_per_class_dict:\n",
    "                            count_per_class_dict[(token,category)] += 1\n",
    "                        else:\n",
    "                            count_per_class_dict[(token,category)] = 1\n",
    "\n",
    "        self.count_per_class_dict = count_per_class_dict\n",
    "        self.count_allwords_per_class = count_allwords_per_class\n",
    "        self.log_prior_list = list(map(lambda p: np.log2(p/len(self.X)), prior_counts))\n",
    "        \n",
    "        unique_tokens = set()\n",
    "        n_unique_tokens = 0\n",
    "        for x in self.X:\n",
    "            for token in x:\n",
    "                if token not in unique_tokens:\n",
    "                    unique_tokens.add(token)\n",
    "                    n_unique_tokens += 1\n",
    "        self.n_unique_tokens = n_unique_tokens            \n",
    "\n",
    "    def calculate_word_log_prob_per_class(self, word, category):\n",
    "        if (word,category) in self.count_per_class_dict:\n",
    "            return np.log2((self.count_per_class_dict[word,category] + 1)/(self.count_allwords_per_class[category] + self.n_unique_tokens))\n",
    "        else:\n",
    "            return np.log2(1/(self.count_allwords_per_class[category] + self.n_unique_tokens))\n",
    "    \n",
    "    def calculate_log_prior(self):\n",
    "        return self.log_prior_list\n",
    "    \n",
    "    def predict(self, example, evaluation=False):\n",
    "        pred_category = None\n",
    "        max_sum = -np.inf\n",
    "        probs = []\n",
    "        prior_list = self.calculate_log_prior()\n",
    "        for index in range(len(self.categories)):\n",
    "            sum = 0\n",
    "            for token in example:\n",
    "                sum += self.calculate_word_log_prob_per_class(token, self.categories[index])\n",
    "            sum += prior_list[index]\n",
    "            probs.append(sum)\n",
    "            if sum > max_sum:\n",
    "                max_sum = sum\n",
    "                pred_category = index\n",
    "        if not evaluation:        \n",
    "            print(probs)\n",
    "            print(self.categories[pred_category])\n",
    "\n",
    "        return pred_category\n",
    "    \n",
    "    def evaluate(self, is_test_set=0, X_test=None, y_test=None, size=None):\n",
    "        y_pred = []\n",
    "        if is_test_set:\n",
    "            for x in X_test:\n",
    "                y_pred.append(self.predict(x, evaluation=True))       \n",
    "            y_true = list(map(lambda y: self.categories.index(y), y_test))  \n",
    "            print(classification_report(y_true, y_pred))\n",
    "        else:\n",
    "            for x in self.X:\n",
    "                y_pred.append(self.predict(x, evaluation=True))\n",
    "            y_true_train = list(map(lambda y: self.categories.index(y), self.y))      \n",
    "            print(classification_report(y_true_train, y_pred))   \n",
    "\n",
    "\n",
    "nb_classifier = NaiveBayesClassifier(dp_train.X, dp_train.y, dp_train.categories)"
   ]
  },
  {
   "cell_type": "code",
   "execution_count": 22,
   "metadata": {},
   "outputs": [
    {
     "name": "stdout",
     "output_type": "stream",
     "text": [
      "[-2494.7739239262464, -2557.0163379994938, -2479.3767429365407, -2341.1058281077694, -2445.850675206795, -2464.4051574024734, -2502.013405714409, -2443.6415882499377, -2494.8287779207094, -2787.528070022513]\n",
      "فرهنگی هنری\n"
     ]
    },
    {
     "data": {
      "text/plain": [
       "3"
      ]
     },
     "execution_count": 22,
     "metadata": {},
     "output_type": "execute_result"
    }
   ],
   "source": [
    "nb_classifier.predict(dp_test.X[0])"
   ]
  },
  {
   "cell_type": "code",
   "execution_count": 23,
   "metadata": {},
   "outputs": [
    {
     "name": "stdout",
     "output_type": "stream",
     "text": [
      "[-1132.8819132788697, -1154.310365378377, -1091.7926648074354, -1051.8208244271102, -1088.1168179318192, -1122.2312103483744, -1144.6634057612605, -1183.2183145682227, -1177.1967423664805, -1378.266333651427]\n",
      "فرهنگی هنری\n"
     ]
    },
    {
     "data": {
      "text/plain": [
       "3"
      ]
     },
     "execution_count": 23,
     "metadata": {},
     "output_type": "execute_result"
    }
   ],
   "source": [
    "nb_classifier.predict(dp_test.X[110])"
   ]
  },
  {
   "cell_type": "code",
   "execution_count": 19,
   "metadata": {},
   "outputs": [
    {
     "name": "stdout",
     "output_type": "stream",
     "text": [
      "[-359.9752308087945, -365.8669782663703, -361.1029458017239, -366.0755033452172, -350.3508946529595, -355.9597666914999, -308.63532438155414, -336.25242176473256, -385.94922591927576, -391.06765699472777]\n",
      "اقتصادی\n"
     ]
    },
    {
     "data": {
      "text/plain": [
       "6"
      ]
     },
     "execution_count": 19,
     "metadata": {},
     "output_type": "execute_result"
    }
   ],
   "source": [
    "nb_classifier.predict(dp_test.X[2654])"
   ]
  },
  {
   "cell_type": "markdown",
   "metadata": {},
   "source": [
    "## Evaluation"
   ]
  },
  {
   "cell_type": "code",
   "execution_count": 26,
   "metadata": {},
   "outputs": [
    {
     "name": "stdout",
     "output_type": "stream",
     "text": [
      "              precision    recall  f1-score   support\n",
      "\n",
      "           0       0.93      0.95      0.94      4105\n",
      "           1       0.98      0.97      0.97      2506\n",
      "           2       0.82      0.82      0.82      2473\n",
      "           3       0.86      0.91      0.89      2191\n",
      "           4       0.81      0.79      0.80      2002\n",
      "           5       0.85      0.90      0.88      1821\n",
      "           6       0.86      0.83      0.85      1745\n",
      "           7       0.65      0.73      0.69       339\n",
      "           8       0.66      0.34      0.45       239\n",
      "           9       1.00      0.01      0.03        73\n",
      "\n",
      "    accuracy                           0.88     17494\n",
      "   macro avg       0.84      0.72      0.73     17494\n",
      "weighted avg       0.88      0.88      0.87     17494\n",
      "\n"
     ]
    }
   ],
   "source": [
    "nb_classifier.evaluate(is_test_set=1, X_test = dp_test.X, y_test = dp_test.y)"
   ]
  },
  {
   "cell_type": "code",
   "execution_count": 27,
   "metadata": {},
   "outputs": [
    {
     "name": "stdout",
     "output_type": "stream",
     "text": [
      "              precision    recall  f1-score   support\n",
      "\n",
      "           0       0.94      0.95      0.95     22767\n",
      "           1       0.98      0.98      0.98     14274\n",
      "           2       0.84      0.85      0.84     13647\n",
      "           3       0.90      0.93      0.91     12136\n",
      "           4       0.85      0.82      0.83     11069\n",
      "           5       0.88      0.91      0.89      9938\n",
      "           6       0.88      0.87      0.88      9583\n",
      "           7       0.69      0.75      0.72      1936\n",
      "           8       0.82      0.48      0.60      1297\n",
      "           9       0.71      0.03      0.06       375\n",
      "\n",
      "    accuracy                           0.90     97022\n",
      "   macro avg       0.85      0.76      0.77     97022\n",
      "weighted avg       0.90      0.90      0.89     97022\n",
      "\n"
     ]
    }
   ],
   "source": [
    "## To evaluate the model on the training set, just call it with no input argument.\n",
    "nb_classifier.evaluate()"
   ]
  }
 ],
 "metadata": {
  "interpreter": {
   "hash": "312bcb4f056a3bc378f7c88d73c11ebba2eef788b7bc4248911e06b9e1383e75"
  },
  "kernelspec": {
   "display_name": "Python 3.7.8 64-bit",
   "language": "python",
   "name": "python3"
  },
  "language_info": {
   "codemirror_mode": {
    "name": "ipython",
    "version": 3
   },
   "file_extension": ".py",
   "mimetype": "text/x-python",
   "name": "python",
   "nbconvert_exporter": "python",
   "pygments_lexer": "ipython3",
   "version": "3.7.8"
  },
  "orig_nbformat": 4
 },
 "nbformat": 4,
 "nbformat_minor": 2
}
